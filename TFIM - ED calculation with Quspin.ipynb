{
 "cells": [
  {
   "cell_type": "code",
   "execution_count": 85,
   "metadata": {},
   "outputs": [],
   "source": [
    "import numpy as np \n",
    "import scipy.linalg as la \n",
    "import matplotlib.pyplot as plt\n",
    "\n",
    "import sys,os\n",
    "from quspin.operators import hamiltonian,quantum_operator # Hamiltonians and operators\n",
    "from quspin.basis import spin_basis_1d # Hilbert space spin basis\n",
    "\n",
    "def build_TFIZ(L,Jxx,Jz,Jx,pbc=False):\n",
    "    \"\"\"\n",
    "    builds tfim Hamiltonian\n",
    "    \"\"\"\n",
    "    ## Setup basis\n",
    "    basis = spin_basis_1d(L,pauli=True) # and positive parity sector\n",
    "    \n",
    "\n",
    "    ## Operator lists\n",
    "    if pbc==True:\n",
    "        J_xx = [[Jxx,i,(i+1)%L] for i in range(L)] # OBC\n",
    "        J_x = [[Jx,i] for i in range(L)] # OBC\n",
    "        J_z = [[Jz,i] for i in range(L)] # OBC\n",
    "    else:\n",
    "        J_xx = [[Jxx,i,i+1] for i in range(L-1)] # OBC\n",
    "        J_x = [[Jx,i] for i in range(L)] # OBC\n",
    "        J_z = [[Jz,i] for i in range(L)] # OBC    # static and dynamic lists\n",
    "        \n",
    "    static = [[\"xx\",J_xx],[\"x\",J_x],[\"z\",J_z]]\n",
    "    dynamic=[]\n",
    "\n",
    "    return hamiltonian(static,dynamic,basis=basis,dtype=np.float64)\n",
    "\n",
    "def build_XXZ(L,J,Delta,pbc=False):\n",
    "    \"\"\"\n",
    "    builds tfim Hamiltonian\n",
    "    \"\"\"\n",
    "    ## Setup basis\n",
    "    basis = spin_basis_1d(L,pauli=True) # and positive parity sector\n",
    "    \n",
    "\n",
    "    ## Operator lists\n",
    "    if pbc==True:\n",
    "        J_xx = [[J,i,(i+1)%L] for i in range(L)] # OBC\n",
    "        J_yy = [[J,i,(i+1)%L] for i in range(L)] # OBC\n",
    "        J_zz = [[Delta * J,i,(i+1)%L] for i in range(L)] # OBC\n",
    "    else:\n",
    "        J_xx = [[J,i,(i+1)%L] for i in range(L-1)] # OBC\n",
    "        J_yy = [[J,i,(i+1)%L] for i in range(L-1)] # OBC\n",
    "        J_zz = [[Delta * J,i,(i+1)%L] for i in range(L-1)] # OBC        \n",
    "    static = [[\"xx\",J_xx],[\"yy\",J_yy],[\"zz\",J_zz]]\n",
    "    dynamic=[]\n",
    "\n",
    "    return hamiltonian(static,dynamic,basis=basis,dtype=np.float64)\n",
    "\n",
    "def build_SDIsing(L,Jxx,Jx,V,pbc=False):\n",
    "    \"\"\"\n",
    "    builds tfim Hamiltonian\n",
    "    \"\"\"\n",
    "    ## Setup basis\n",
    "    basis = spin_basis_1d(L,pauli=True) # and positive parity sector\n",
    "    \n",
    "\n",
    "    ## Operator lists\n",
    "    if pbc==True:\n",
    "        J_xx = [[Jxx,i,(i+1)%L] for i in range(L)] # OBC\n",
    "        J_x = [[Jx,i] for i in range(L)] # OBC\n",
    "        V_zz = [[V,i,(i+2)%L] for i in range(L)] # OBC\n",
    "        V_xx = [[V,i,(i+1)%L] for i in range(L)] # OBC\n",
    "    else:\n",
    "        J_xx = [[Jxx,i,i+1] for i in range(L-1)] # OBC\n",
    "        J_x = [[Jx,i] for i in range(L)] # OBC\n",
    "        V_zz = [[V,i,(i+2)%L] for i in range(L-2)] # OBC\n",
    "        V_xx = [[V,i,(i+1)%L] for i in range(L-1)] # OBC\n",
    "        \n",
    "    static = [[\"xx\",J_xx],[\"x\",J_x],[\"zz\",V_zz],[\"xx\",V_xx]]\n",
    "    dynamic=[]\n",
    "\n",
    "    return hamiltonian(static,dynamic,basis=basis,dtype=np.float64)\n",
    "\n"
   ]
  },
  {
   "cell_type": "code",
   "execution_count": 92,
   "metadata": {},
   "outputs": [
    {
     "name": "stdout",
     "output_type": "stream",
     "text": [
      "Hermiticity check passed!\n"
     ]
    },
    {
     "name": "stderr",
     "output_type": "stream",
     "text": [
      "<ipython-input-85-9d6492c53a3a>:77: UserWarning: Test for symmetries not implemented for <class 'quspin.basis.basis_1d.spin.spin_basis_1d'>, to turn off this warning set check_symm=False in hamiltonian\n",
      "  return hamiltonian(static,dynamic,basis=basis,dtype=np.float64)\n"
     ]
    }
   ],
   "source": [
    "### model parameters ###\n",
    "L=12 # system size\n",
    "Jxx = 1\n",
    "Jz = 0.5\n",
    "Jx = 0.5\n",
    "\n",
    "Ts = np.arange(0.2,2.2,0.2) # temperatures (sweep)\n",
    "\n",
    "# initialize variables\n",
    "Fs = np.zeros(Ts.size) # free energy\n",
    "Es = np.zeros(Ts.size) # mean energy\n",
    "Ss = np.zeros(Ts.size) # entropy\n",
    "\n",
    "# build/diagonalize H\n",
    "#H = build_TFIZ(L,Jxx,Jz,Jx,pbc=False)\n",
    "H = build_SDIsing(L,-1,-1,1,pbc=True)\n",
    "basis = spin_basis_1d(L,pauli=0.5) # and positive parity sector\n",
    "Hdense = H.todense()\n",
    "E,V = la.eigh(Hdense) # find spectrum\n",
    "\n",
    "# compute free-energy for T-Sweep\n",
    "for i_T,T in enumerate(Ts):\n",
    "    boltz_wts= np.exp(-E/T) # boltzmann weights\n",
    "    Z = np.sum(boltz_wts) # partition function\n",
    "    rho_diag = boltz_wts/Z # density matrix (in Energy eigenbasis)\n",
    "    Es[i_T] = np.sum(E*rho_diag) \n",
    "    Ss[i_T] = -np.sum(rho_diag*np.log(rho_diag)) # free energy\n",
    "\n",
    "Fs = Es - Ts*Ss\n"
   ]
  },
  {
   "cell_type": "code",
   "execution_count": 73,
   "metadata": {},
   "outputs": [
    {
     "data": {
      "text/plain": [
       "[<matplotlib.lines.Line2D at 0x7f84384bf910>]"
      ]
     },
     "execution_count": 73,
     "metadata": {},
     "output_type": "execute_result"
    },
    {
     "data": {
      "image/png": "[encoded data removed]",
      "text/plain": [
       "<Figure size 432x288 with 1 Axes>"
      ]
     },
     "metadata": {
      "needs_background": "light"
     },
     "output_type": "display_data"
    }
   ],
   "source": [
    "plt.plot(Ts,Fs/L)"
   ]
  },
  {
   "cell_type": "code",
   "execution_count": 93,
   "metadata": {},
   "outputs": [
    {
     "data": {
      "text/plain": [
       "array([-1.29581899, -1.31629064, -1.34307028, -1.37955529, -1.42837276,\n",
       "       -1.48998489, -1.5633271 , -1.64672195, -1.73845586, -1.83702027])"
      ]
     },
     "execution_count": 93,
     "metadata": {},
     "output_type": "execute_result"
    }
   ],
   "source": [
    "Fs/L"
   ]
  }
 ],
 "metadata": {
  "kernelspec": {
   "display_name": "Python 3",
   "language": "python",
   "name": "python3"
  },
  "language_info": {
   "codemirror_mode": {
    "name": "ipython",
    "version": 3
   },
   "file_extension": ".py",
   "mimetype": "text/x-python",
   "name": "python",
   "nbconvert_exporter": "python",
   "pygments_lexer": "ipython3",
   "version": "3.8.8"
  }
 },
 "nbformat": 4,
 "nbformat_minor": 4
}
