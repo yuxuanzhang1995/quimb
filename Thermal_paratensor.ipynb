{
 "cells": [
  {
   "cell_type": "code",
   "execution_count": 2,
   "id": "0b2c812d",
   "metadata": {},
   "outputs": [
    {
     "name": "stderr",
     "output_type": "stream",
     "text": [
      "/opt/anaconda3/lib/python3.8/site-packages/cotengra/hyper.py:27: UserWarning: Couldn't import `kahypar` - skipping from default hyper optimizer and using basic `labels` method instead.\n",
      "  warnings.warn(\"Couldn't import `kahypar` - skipping from default \"\n",
      "/opt/anaconda3/lib/python3.8/site-packages/cotengra/hyper.py:43: UserWarning: Couldn't find `optuna`, `baytune (btb)`, `chocolate`, `nevergrad` or `skopt` so will use completely random sampling in place of hyper-optimization.\n",
      "  warnings.warn(\"Couldn't find `optuna`, `baytune (btb)`, `chocolate`, \"\n"
     ]
    }
   ],
   "source": [
    "from quimb import *\n",
    "from quimb.tensor import *\n",
    "import quimb as qu\n",
    "import numpy as np\n",
    "import quimb.tensor as qtn\n",
    "import matplotlib.pyplot as plt\n",
    "from numpy import linalg as LA\n",
    "import math\n",
    "#pip install --no-deps -U -e .\n",
    "import cotengra as ctg\n",
    "%matplotlib inline"
   ]
  },
  {
   "cell_type": "code",
   "execution_count": 3,
   "id": "0742220c",
   "metadata": {},
   "outputs": [
    {
     "name": "stdout",
     "output_type": "stream",
     "text": [
      "(2, 2, 2) [[[1. 0.]\n",
      "  [0. 0.]]\n",
      "\n",
      " [[0. 0.]\n",
      "  [0. 1.]]]\n"
     ]
    }
   ],
   "source": [
    "n = 2\n",
    "delta = np.einsum('ij,jl,jn->iln', np.eye(n,n), np.eye(n,n),np.eye(n,n))\n",
    "print (delta.shape, delta)"
   ]
  },
  {
   "cell_type": "code",
   "execution_count": 4,
   "id": "1ecab10b",
   "metadata": {},
   "outputs": [
    {
     "name": "stdout",
     "output_type": "stream",
     "text": [
      "[[0.33160152 0.21045133]\n",
      " [0.21045133 0.66839848]]\n"
     ]
    }
   ],
   "source": [
    "psi = qtn.MPS_computational_state('0' * 3)\n",
    "for t in psi:\n",
    "     t.modify(left_inds=())\n",
    "\n",
    "G = qu.rand_uni(4,dtype='float64')\n",
    "psi.gate_(G, (0, 1), tags={'P'} )\n",
    "psi.unitize_(method='mgs', allow_no_left_inds=True)\n",
    "psi.reindex_({f'k{0}':'k'})\n",
    "\n",
    "d1_ind =[ f'k{0}','k',f'l{0}']\n",
    "d1 = qtn.Tensor(delta,d1_ind,tags='del')\n",
    "tn=psi & d1\n",
    "K = qu.rand_uni(4,dtype='float64')\n",
    "\n",
    "tn.view_as_(\n",
    "     qtn.tensor_1d.TensorNetwork1DVector,\n",
    "     L=2,\n",
    "     site_tag_id='I{}',\n",
    "     site_ind_id='k{}'\n",
    " )\n",
    "tn.gate_(K, ('0','2'), tags={'O'}, contract=False)\n",
    "tn_h=tn.H\n",
    "tn_h.reindex_({f\"k{0}\":f\"b{0}\"})\n",
    "tn_f=(tn_h & tn)^all\n",
    "print (tn_f.data)"
   ]
  },
  {
   "cell_type": "code",
   "execution_count": 5,
   "id": "b1cdf8de",
   "metadata": {},
   "outputs": [],
   "source": [
    "def density_operator(L):\n",
    "    psi = qtn.MPS_computational_state('0' * (2*L+1)) # +1 is for the physical qubit\n",
    "    \n",
    "    for t in psi:\n",
    "         t.modify(left_inds=())\n",
    "    delta = np.einsum('ij,jl,jn->iln', np.eye(2,2), np.eye(2,2),np.eye(2,2))\n",
    "    G = qu.rand_uni(4,dtype='float64')\n",
    "    K = qu.rand_uni(4,dtype='float64')\n",
    "    for i in range (L):\n",
    "        psi.gate_(G, (0+2*i, 1+2*i), tags={'Prep'} )\n",
    "        psi.unitize_(method='mgs', allow_no_left_inds=True)\n",
    "        psi.reindex_({f'k{2*i}':f'd{2*i}'})\n",
    "        \n",
    "        d1_ind =[f'k{2*i}',f'd{2*i}',f'l{2*i}']\n",
    "        d1 = qtn.Tensor(delta,d1_ind,tags='del')\n",
    "        psi=psi & d1\n",
    "        psi.view_as_(\n",
    "             qtn.tensor_1d.TensorNetwork1DVector,\n",
    "             L=2*L+1,\n",
    "             site_tag_id='I{}',\n",
    "             site_ind_id='k{}'\n",
    "         )\n",
    "    for i in range (L):    \n",
    "        psi.gate_(K, (f'{2*i}',f'{2*L}'), tags={'SU4'}, contract=False)\n",
    "    return psi"
   ]
  },
  {
   "cell_type": "code",
   "execution_count": 11,
   "id": "047d4149",
   "metadata": {},
   "outputs": [],
   "source": [
    "def energy_ising(tn):\n",
    "    tn_h = tn.H\n",
    "    H = MPO_ham_ising(L, j=jz, bx=bx)\n",
    "    for i in range(L):\n",
    "        tn_h.reindex_({f\"k{2*i}\":f\"b{2*i}\"})\n",
    "    H = MPO_ham_ising(L, j=jz, bx=bx)\n",
    "    for i in range(L,0,-1):\n",
    "        H.reindex_({f\"k{(i-1)}\":f\"k{2*(i-1)}\"})\n",
    "        H.reindex_({f\"b{(i-1)}\":f\"b{2*(i-1)}\"})\n",
    "    return (tn&H&tn_h).contract()\n",
    "\n",
    "def normal(psi):\n",
    "    return (psi.H & psi)^all\n",
    "\n",
    "def norm_f(psi):\n",
    "    # method='qr' is the default but the gradient seems very unstable\n",
    "    # 'mgs' is a manual modified gram-schmidt orthog routine\n",
    "    return psi.unitize(method='mgs',allow_no_left_inds=True)\n"
   ]
  },
  {
   "cell_type": "code",
   "execution_count": 16,
   "id": "758ea0ad",
   "metadata": {},
   "outputs": [
    {
     "data": {
      "text/plain": [
       "-0.22042284130116388"
      ]
     },
     "execution_count": 16,
     "metadata": {},
     "output_type": "execute_result"
    }
   ],
   "source": [
    "jz = -1\n",
    "bx = 0.5\n",
    "L = 10\n",
    "tn = density_operator(L)\n",
    "energy_ising(tn)"
   ]
  },
  {
   "cell_type": "code",
   "execution_count": 17,
   "id": "617a2374",
   "metadata": {},
   "outputs": [
    {
     "name": "stderr",
     "output_type": "stream",
     "text": [
      "-3.036664724350 [best: -3.036667346954] : : 1001it [00:20, 49.79it/s]                         \n"
     ]
    }
   ],
   "source": [
    "tnopt = TNOptimizer(\n",
    "    tn,                        # the tensor network we want to optimize\n",
    "    loss_fn = energy_ising,                     # the function we want to minimize\n",
    "    norm_fn = norm_f,\n",
    "    autodiff_backend='auto',   # use 'autograd' for non-compiled optimization\n",
    "    optimizer='tnc',     # the optimization algorithm\n",
    "    tags=['Prep','SU4']\n",
    ")\n",
    "\n",
    "v_opt = tnopt.optimize(1000,tol=1e-6,jac=True,hessp=True)"
   ]
  },
  {
   "cell_type": "code",
   "execution_count": 18,
   "id": "a3dda02c",
   "metadata": {},
   "outputs": [
    {
     "name": "stdout",
     "output_type": "stream",
     "text": [
      "DMRG= -3.0953724998316456\n"
     ]
    }
   ],
   "source": [
    "H = MPO_ham_ising(10, j=jz, bx=bx)\n",
    "dmrg = qtn.DMRG2(H, bond_dims=[10, 20, 60, 80, 100, 150], cutoffs=1e-11)\n",
    "dmrg.solve(tol=1e-12, verbosity=0 )\n",
    "print(\"DMRG=\", dmrg.energy)"
   ]
  },
  {
   "cell_type": "code",
   "execution_count": 19,
   "id": "0cb0e542",
   "metadata": {},
   "outputs": [
    {
     "data": {
      "image/png": "[encoded data removed]",
      "text/plain": [
       "<Figure size 432x432 with 1 Axes>"
      ]
     },
     "metadata": {},
     "output_type": "display_data"
    }
   ],
   "source": [
    "tn.draw()"
   ]
  }
 ],
 "metadata": {
  "kernelspec": {
   "display_name": "Python 3",
   "language": "python",
   "name": "python3"
  },
  "language_info": {
   "codemirror_mode": {
    "name": "ipython",
    "version": 3
   },
   "file_extension": ".py",
   "mimetype": "text/x-python",
   "name": "python",
   "nbconvert_exporter": "python",
   "pygments_lexer": "ipython3",
   "version": "3.8.8"
  }
 },
 "nbformat": 4,
 "nbformat_minor": 5
}
